{
  "metadata": {
    "varInspector": {
      "cols": {
        "lenName": 16,
        "lenType": 16,
        "lenVar": 40
      },
      "kernels_config": {
        "python": {
          "delete_cmd_postfix": "",
          "delete_cmd_prefix": "del ",
          "library": "var_list.py",
          "varRefreshCmd": "print(var_dic_list())"
        },
        "r": {
          "delete_cmd_postfix": ") ",
          "delete_cmd_prefix": "rm(",
          "library": "var_list.r",
          "varRefreshCmd": "cat(var_dic_list()) "
        }
      },
      "types_to_exclude": [
        "module",
        "function",
        "builtin_function_or_method",
        "instance",
        "_Feature"
      ],
      "window_display": false
    },
    "kernelspec": {
      "name": "python",
      "display_name": "Python (Pyodide)",
      "language": "python"
    },
    "language_info": {
      "codemirror_mode": {
        "name": "python",
        "version": 3
      },
      "file_extension": ".py",
      "mimetype": "text/x-python",
      "name": "python",
      "nbconvert_exporter": "python",
      "pygments_lexer": "ipython3",
      "version": "3.8"
    }
  },
  "nbformat_minor": 5,
  "nbformat": 4,
  "cells": [
    {
      "cell_type": "markdown",
      "source": "# Лабораторна робота \"Операції над масивами NumPy\"\n\n__Метою__ лабораторної роботи є набуття практичних навичок та закріплення теоретичних знань по обробці великих однорідних наборів даних які розташовані у вигляді масивів бібліотеки __NumPy__.\n\nВиконати послідовно завдання в секціях, попередню засвоївши наведені приклади\nВ завданнях продовжити написання коду замість `...`. \n\n__Імена змінних в завданнях змінювати не можна!__",
      "metadata": {},
      "id": "37f7333b"
    },
    {
      "cell_type": "markdown",
      "source": "### Предвстановлення",
      "metadata": {
        "heading_collapsed": true
      },
      "id": "cff5adf7"
    },
    {
      "cell_type": "code",
      "source": "# Імпортувати бібліотеку numpy з аліасом np\nimport numpy as np",
      "metadata": {
        "hidden": true
      },
      "execution_count": null,
      "outputs": [],
      "id": "3dc7e8d5"
    },
    {
      "cell_type": "code",
      "source": "# Вивід таблиці відповідності кодів типів даних в NumPy\nimport pandas as pd\ndtypes = pd.DataFrame(\n    {\n        'Type': ['int8', 'uint8', 'int16', 'uint16', 'int32', 'uint32', 'int64', 'uint64', 'float16', 'float32', 'float64', 'float128', 'complex64', 'complex128', 'bool', 'object', 'string_', 'unicode_'],\n        'Type Code': ['i1', 'u1', 'i2', 'u2', 'i4', 'u4', 'i8', 'u8', 'f2', 'f4 or f', 'f8 or d', 'f16 or g', 'c8', 'c16', '', 'O', 'S', 'U']\n    }\n)\n\ndtypes",
      "metadata": {
        "code_folding": [],
        "hidden": true
      },
      "execution_count": null,
      "outputs": [],
      "id": "e7bd3f03"
    },
    {
      "cell_type": "markdown",
      "source": "## 1. Створення та інспектування _np-массивів_",
      "metadata": {
        "heading_collapsed": true
      },
      "id": "033f297c"
    },
    {
      "cell_type": "markdown",
      "source": "### ПРИКЛАДИ",
      "metadata": {
        "hidden": true
      },
      "id": "a355eb26"
    },
    {
      "cell_type": "code",
      "source": "# Створити 1-вимірний масив з 5 цілочисельних елементів \narr = np.array([23, 42, 13, 7, 0])",
      "metadata": {
        "hidden": true
      },
      "execution_count": null,
      "outputs": [],
      "id": "ad005f08"
    },
    {
      "cell_type": "code",
      "source": "# Інспектування массива\nnp.info(arr)",
      "metadata": {
        "hidden": true
      },
      "execution_count": null,
      "outputs": [],
      "id": "223b11eb"
    },
    {
      "cell_type": "code",
      "source": "# створити 2-мірний масив з цілим типом даних у 2-х байтовому форматі\narr = np.array([[1,2,3], [4,5,6]], dtype='i2')\nprint(arr)",
      "metadata": {
        "hidden": true
      },
      "execution_count": null,
      "outputs": [],
      "id": "be71cde5"
    },
    {
      "cell_type": "code",
      "source": "# створити масив із  значень в інтервалі 0 - 20 з кроком 2\n# np.arange(start, stop, step)\narr = np.arange(0, 20, 2)  \nprint(arr)",
      "metadata": {
        "hidden": true
      },
      "execution_count": null,
      "outputs": [],
      "id": "069cfeea"
    },
    {
      "cell_type": "code",
      "source": "# створити масив із 20 рівномірно розміщених значень в інтервалі 0 - 10 \n# np.linspace(start, stop, num_of_elements) \narr = np.linspace(0, 10, 20)\nprint(arr)",
      "metadata": {
        "hidden": true
      },
      "execution_count": null,
      "outputs": [],
      "id": "bca6baaa"
    },
    {
      "cell_type": "code",
      "source": "# створити масив 3х3 випадкових значень \narr = np.random.rand(3, 3)\nprint(arr)",
      "metadata": {
        "hidden": true
      },
      "execution_count": null,
      "outputs": [],
      "id": "d4531bf7"
    },
    {
      "cell_type": "code",
      "source": "# створення нульвих, одиничних та заповнених масивів\nzeros = np.zeros((2,3), dtype='i4')\nprint(zeros)\nones = np.ones((2,3))\nprint(ones)\nfilled = np.full((2,3), 123)\nprint(filled)",
      "metadata": {
        "hidden": true
      },
      "execution_count": null,
      "outputs": [],
      "id": "bfcfaf8d"
    },
    {
      "cell_type": "code",
      "source": "print(arr, end=\"\\n...\\n\")\n# інспектування типу массиву `dtype`\nprint(arr.dtype)\n# інспектування розмірності массиву `shape`\nprint(arr.shape)\n# інспектування довжини масиву `len`\nprint(len(arr))\n# інспектування кількості вимірів масиву `ndim`\nprint(arr.ndim)\n# інспектування кількості елементів в масиві `size`\nprint(arr.size)\n# інспектування коількості байтів на елемент `itemsize`\nprint(arr.itemsize)\n# інспектування кількості пам'яти під масив `nbytes`\nprint(arr.nbytes)",
      "metadata": {
        "hidden": true,
        "scrolled": true
      },
      "execution_count": null,
      "outputs": [],
      "id": "c2602c56"
    },
    {
      "cell_type": "code",
      "source": "arr.__sizeof__()",
      "metadata": {
        "hidden": true
      },
      "execution_count": null,
      "outputs": [],
      "id": "042b3daf"
    },
    {
      "cell_type": "markdown",
      "source": "### ЗАВДАННЯ 1",
      "metadata": {
        "hidden": true
      },
      "id": "4953e355"
    },
    {
      "cell_type": "code",
      "source": "### ЗАВДАННЯ 1.1: створити та проінспектувати масив 3х4 з ім'ям arr1_1, який містить числа з плавоючою точкою\narr1_1 = np.array([[1.1, 2.2, 3.3, 4.4],\n                   [5.5, 6.6, 7.7, 8.8],\n                   [9.9, 10.1, 11.2, 12.3]])\nprint(arr1_1)\nprint(\"Shape:\", arr1_1.shape)\nprint(\"Data type:\", arr1_1.dtype)",
      "metadata": {
        "hidden": true
      },
      "execution_count": null,
      "outputs": [],
      "id": "7cadc1c0"
    },
    {
      "cell_type": "code",
      "source": "### ЗАВДАННЯ 1.2: створити одномірний масив з 5 строкових елементів\narr1_2 = np.array([\"Tolya\",\"Anatolyi\",\"Yaremich\",\"Yaroslav\",\"Anton\"])\nprint(arr1_2)",
      "metadata": {
        "hidden": true
      },
      "execution_count": null,
      "outputs": [],
      "id": "3c60b406"
    },
    {
      "cell_type": "code",
      "source": "### ЗАВДАННЯ 1.3: створити одиничний масив 3х4 чисел з плаваючою точкою\narr1_3 = np.ones((3, 4))\nprint(arr1_3)",
      "metadata": {
        "hidden": true
      },
      "execution_count": null,
      "outputs": [],
      "id": "88d0de53"
    },
    {
      "cell_type": "markdown",
      "source": "## 2. Перетворення форми та типу массивів",
      "metadata": {
        "heading_collapsed": true
      },
      "id": "764fa688"
    },
    {
      "cell_type": "markdown",
      "source": "### ПРИКЛАДИ",
      "metadata": {
        "hidden": true
      },
      "id": "1c82d0ed"
    },
    {
      "cell_type": "code",
      "source": "# створити 2-мірний float-масив (2х5) з лінійного int-списка \nspisok = list(range(0,10))\narr = np.array(spisok)\nprint(arr)",
      "metadata": {
        "hidden": true,
        "scrolled": true
      },
      "execution_count": null,
      "outputs": [],
      "id": "953c93f0"
    },
    {
      "cell_type": "code",
      "source": "#преретворити форму масива `reshape` \narr = arr.reshape((2,5))\nprint(arr)\nprint(arr.dtype)",
      "metadata": {
        "hidden": true
      },
      "execution_count": null,
      "outputs": [],
      "id": "3bb56531"
    },
    {
      "cell_type": "code",
      "source": "# -- 3 перетворити тип масива `astype`\narr = arr.astype('float64')\nprint(arr)\nprint(arr.dtype)",
      "metadata": {
        "hidden": true
      },
      "execution_count": null,
      "outputs": [],
      "id": "07cdda37"
    },
    {
      "cell_type": "code",
      "source": "# 'вирівняти' 2-мірний масив\narr = arr.flatten()\nprint(arr)",
      "metadata": {
        "hidden": true,
        "scrolled": true
      },
      "execution_count": null,
      "outputs": [],
      "id": "877770f4"
    },
    {
      "cell_type": "markdown",
      "source": "### ЗАВДАННЯ 2",
      "metadata": {
        "hidden": true
      },
      "id": "dcb3100f"
    },
    {
      "cell_type": "code",
      "source": "### ЗАВДАННЯ 2.1: створити 3-мірний масив (3х1х3) логічного 'False'\narr2_1 = np.array([False]*9)\narr2_1 = arr2_1.reshape(3, 1, 3)\nprint(arr2_1)",
      "metadata": {
        "hidden": true
      },
      "execution_count": null,
      "outputs": [],
      "id": "4f1638f6"
    },
    {
      "cell_type": "code",
      "source": "### ЗАВДАННЯ 2.2: перетворити масив arr2_1 в 2-мірний масив (3х3) типу int\narr2_2 = arr2_1.reshape((3, 3))\narr2_2 = arr2_2.astype('int')\nprint(arr2_2)",
      "metadata": {
        "hidden": true
      },
      "execution_count": null,
      "outputs": [],
      "id": "1c1012f9"
    },
    {
      "cell_type": "code",
      "source": "### ЗАВДАННЯ 2.3: створити  2-мірний масив парних чисел в інтервалі 10-21\narr2_3 = np.arange(10, 21, 2).reshape(3, -1)\nprint(arr2_3)",
      "metadata": {
        "hidden": true
      },
      "execution_count": null,
      "outputs": [],
      "id": "a6d4dbf1"
    },
    {
      "cell_type": "markdown",
      "source": "## 3. Доступ до  елементів масива",
      "metadata": {
        "heading_collapsed": true
      },
      "id": "d2418105"
    },
    {
      "cell_type": "markdown",
      "source": "### ПРИКЛАДИ",
      "metadata": {
        "hidden": true
      },
      "id": "eea944cf"
    },
    {
      "cell_type": "code",
      "source": "arr = np.array([10, 6, 7, 21, 44]) \nprint(arr)\n\n# 1-й елемент \nprint(arr[0])\n# 3-й елемент\nprint(arr[2])\n# останній елемент\nprint(arr[-1])",
      "metadata": {
        "hidden": true
      },
      "execution_count": null,
      "outputs": [],
      "id": "5ff72006"
    },
    {
      "cell_type": "code",
      "source": "# створити 2-мірний масив з цілих чисел з інтервалу 10-50\narr = np.random.randint(10, 50, (4,4))\nprint(arr)",
      "metadata": {
        "hidden": true
      },
      "execution_count": null,
      "outputs": [],
      "id": "002a1aff"
    },
    {
      "cell_type": "code",
      "source": "# отримати значення останнього елемента в 2 рядку\nel = arr[1, -1]\nprint(el)",
      "metadata": {
        "hidden": true
      },
      "execution_count": null,
      "outputs": [],
      "id": "8d9a60df"
    },
    {
      "cell_type": "code",
      "source": "# отримати значення останнього рядка\nvect = arr[-1]\nprint(vect)",
      "metadata": {
        "hidden": true
      },
      "execution_count": null,
      "outputs": [],
      "id": "6285da26"
    },
    {
      "cell_type": "code",
      "source": "# отримати `зріз` з 1 по 2 рядок\nmat = arr[0:2]\nprint(mat)",
      "metadata": {
        "hidden": true
      },
      "execution_count": null,
      "outputs": [],
      "id": "4f87fb55"
    },
    {
      "cell_type": "code",
      "source": "# вилучити 2 та 3 стовбчики `arr`\nmat = arr[0:4, 1:3]\nprint(mat)",
      "metadata": {
        "hidden": true
      },
      "execution_count": null,
      "outputs": [],
      "id": "8ae673b1"
    },
    {
      "cell_type": "code",
      "source": "# вилучити непарні рядки `arr`\nmat = arr[0:4:2]\nprint(mat)",
      "metadata": {
        "hidden": true
      },
      "execution_count": null,
      "outputs": [],
      "id": "eaee80a7"
    },
    {
      "cell_type": "code",
      "source": "# фільтрувати елементи масива за умовою\nels = arr[arr > 20]\nprint(els)",
      "metadata": {
        "hidden": true
      },
      "execution_count": null,
      "outputs": [],
      "id": "08a60d9d"
    },
    {
      "cell_type": "markdown",
      "source": "### ЗАВДАННЯ 3",
      "metadata": {
        "hidden": true
      },
      "id": "972e034d"
    },
    {
      "cell_type": "code",
      "source": "### ЗАВДАННЯ 3.1: створити масив 4х5 нормально розподілений випадкових чисел 3 інтервалу [10 - 100]\narr3_1 = np.linspace(10, 100)\narr3_1 = arr3_1.reshape((4, 5))",
      "metadata": {
        "hidden": true
      },
      "execution_count": null,
      "outputs": [],
      "id": "aab8b56e"
    },
    {
      "cell_type": "code",
      "source": "### ЗАВДАННЯ 3.2:  вивести 3-елемент в 2-му рядку\nel3_2 = arr3_1[1][2]\nprint(el3_2)",
      "metadata": {
        "hidden": true
      },
      "execution_count": null,
      "outputs": [],
      "id": "ea680bc0"
    },
    {
      "cell_type": "code",
      "source": "### ЗАВДАННЯ 3.3:  вивести 2-й рядок масива `arr3_1`\nvect3_3 = arr3_1[1]\nprint(vect3_3)",
      "metadata": {
        "hidden": true
      },
      "execution_count": null,
      "outputs": [],
      "id": "72b9576d"
    },
    {
      "cell_type": "code",
      "source": "### ЗАВДАННЯ 3.4:  вивести 3 колонку масива `arr3_1`\nvect3_4 = arr3_1[:,2]\nprint(vect3_4)",
      "metadata": {
        "hidden": true
      },
      "execution_count": null,
      "outputs": [],
      "id": "f5ce8562"
    },
    {
      "cell_type": "code",
      "source": "### ЗАВДАННЯ 3.5: вивести матрицю  з 2 та 3 рядка та 2 та 3 колонки масива `arr3_1`\nmat3_5 = arr3_1[1:3, 1:3]\nprint(mat3_5)",
      "metadata": {
        "hidden": true
      },
      "execution_count": null,
      "outputs": [],
      "id": "7cba7f34"
    },
    {
      "cell_type": "markdown",
      "source": "## 4. Матричні компоненти масива",
      "metadata": {
        "heading_collapsed": true
      },
      "id": "59ba0a73"
    },
    {
      "cell_type": "markdown",
      "source": "### ПРИКЛАДИ",
      "metadata": {
        "hidden": true
      },
      "id": "15c89faf"
    },
    {
      "cell_type": "code",
      "source": "# створити одиничну матрицю розміру 3х3\nmat = np.eye(3)\nprint(mat)",
      "metadata": {
        "hidden": true
      },
      "execution_count": null,
      "outputs": [],
      "id": "431f5106"
    },
    {
      "cell_type": "code",
      "source": "# створити матрицю із заданою диагоналлю\nmat = np.diag([1,2,3,4,5])\nprint(mat)",
      "metadata": {
        "hidden": true
      },
      "execution_count": null,
      "outputs": [],
      "id": "62184035"
    },
    {
      "cell_type": "code",
      "source": "# вилучити головну діагональ матриці `diag`\nmat = np.random.rand(5,5)\nprint(mat, end=\"\\n...\\n\")\nprint(np.diag(mat))",
      "metadata": {
        "hidden": true
      },
      "execution_count": null,
      "outputs": [],
      "id": "db16d096"
    },
    {
      "cell_type": "code",
      "source": "# транспонувати матрицю `mat` (https://ru.wikipedia.org/wiki/Транспонированная_матрица)\nmT = np.transpose(mat)\nprint(mT)",
      "metadata": {
        "hidden": true
      },
      "execution_count": null,
      "outputs": [],
      "id": "2dec7657"
    },
    {
      "cell_type": "code",
      "source": "# отримати детермінант матриці `det` (https://ru.wikipedia.org/wiki/Определитель)\nprint(np.linalg.det(mat))",
      "metadata": {
        "hidden": true
      },
      "execution_count": null,
      "outputs": [],
      "id": "7cec4e03"
    },
    {
      "cell_type": "code",
      "source": "# отримати зворотню матриці `det` (https://ru.wikipedia.org/wiki/Обратная_матрица)\ninvM = np.linalg.inv(mat)\nprint(invM)",
      "metadata": {
        "hidden": true
      },
      "execution_count": null,
      "outputs": [],
      "id": "ee8d69c7"
    },
    {
      "cell_type": "markdown",
      "source": "### ЗАВАДАННЯ 4",
      "metadata": {
        "hidden": true
      },
      "id": "ba00d798"
    },
    {
      "cell_type": "code",
      "source": "# ЗАВДАННЯ 4.1: створити квадратну матрицю з 36 рівномірно розподілених цілих \n# елементів з інтервалу 100 - 200\nmat4_1 = np.round(np.linspace(100, 200), 1).reshape((6, 6))\nprint(mat4_1)",
      "metadata": {
        "hidden": true
      },
      "execution_count": null,
      "outputs": [],
      "id": "d5aa7c9e"
    },
    {
      "cell_type": "code",
      "source": "# ЗАВДАННЯ 4.2: вивести головну діагональ матниці `mat4_1`\ndiag4_2 = np.diag(mat4_1)\nprint(diag4_2)",
      "metadata": {
        "hidden": true
      },
      "execution_count": null,
      "outputs": [],
      "id": "447a05c2"
    },
    {
      "cell_type": "code",
      "source": "# ЗАВДАННЯ 4.3: транспонувати матрицю 'mat4_1'\ntrans4_3 = np.transpose(mat4_1)\nprint(trans4_3)",
      "metadata": {
        "hidden": true
      },
      "execution_count": null,
      "outputs": [],
      "id": "003c3c8b"
    },
    {
      "cell_type": "code",
      "source": "# ЗАВДАННЯ 4.4: вирахувати зворотню до 'mat4_1' матрицю \ninv4_4 = np.round(np.linalg.inv(mat4_1), 1)",
      "metadata": {
        "hidden": true
      },
      "execution_count": null,
      "outputs": [],
      "id": "0d05994a"
    },
    {
      "cell_type": "markdown",
      "source": "## 5. Операції над масивами",
      "metadata": {
        "heading_collapsed": true
      },
      "id": "836e63ef"
    },
    {
      "cell_type": "markdown",
      "source": "### ПРИКЛАДИ",
      "metadata": {
        "hidden": true
      },
      "id": "d1ed164b"
    },
    {
      "cell_type": "code",
      "source": "# задати вектор з 10 елементів\nvect = np.array([1, 3, 2, -3, 5, 0])",
      "metadata": {
        "hidden": true
      },
      "execution_count": null,
      "outputs": [],
      "id": "526be685"
    },
    {
      "cell_type": "code",
      "source": "# вирахувати суму елеметнів\ns = np.sum(vect)\n\n# знайти мінімальний ел-т\nm = np.min(vect)\n\n# відсортувати вектор по зростанню\nvs = np.sort(vect)\n\n# знайти середнє значення\nmid = np.average(vect)\n...",
      "metadata": {
        "hidden": true
      },
      "execution_count": null,
      "outputs": [],
      "id": "841d8832"
    },
    {
      "cell_type": "code",
      "source": "# матриця 3х3 сконструйована різними методами\nmat = np.array([np.arange(1,4), [-2, 4, 6], np.full(3,77)])\nprint(mat)",
      "metadata": {
        "hidden": true
      },
      "execution_count": null,
      "outputs": [],
      "id": "e93a77e7"
    },
    {
      "cell_type": "code",
      "source": "# сума по колонкам `axis=0`\ns = np.sum(mat, axis=0)\nprint(s)",
      "metadata": {
        "hidden": true
      },
      "execution_count": null,
      "outputs": [],
      "id": "12515cb2"
    },
    {
      "cell_type": "code",
      "source": "# мінімум по рядкам\nm = np.min(mat, axis=1)\nprint(m)",
      "metadata": {
        "hidden": true
      },
      "execution_count": null,
      "outputs": [],
      "id": "1f559e9d"
    },
    {
      "cell_type": "code",
      "source": "# збільшити ел-ти масива вдвічі\nv2 = mat * 2\nprint(v2)",
      "metadata": {
        "hidden": true
      },
      "execution_count": null,
      "outputs": [],
      "id": "d4fd582d"
    },
    {
      "cell_type": "code",
      "source": "M = np.array([[1,2,3],[4,-3,6],[7,8,0]])\nN = np.array([[1,1,1],[2,2,2],[3,3,3]])\nprint(M, N, sep=\"\\n\")",
      "metadata": {
        "hidden": true
      },
      "execution_count": null,
      "outputs": [],
      "id": "4aefcf63"
    },
    {
      "cell_type": "code",
      "source": "# перемножити елементи матриць M, N\nK = M * N\nprint(K)\n# або ->\nK = np.multiply(N, M)\nprint(K)",
      "metadata": {
        "hidden": true
      },
      "execution_count": null,
      "outputs": [],
      "id": "c97502a9"
    },
    {
      "cell_type": "code",
      "source": "# поелементний поділ\nK = N / M\nprint(K)",
      "metadata": {
        "hidden": true
      },
      "execution_count": null,
      "outputs": [],
      "id": "4c6573ad"
    },
    {
      "cell_type": "code",
      "source": "# скалярне множення матриць (https://ru.wikipedia.org/wiki/Умножение_матриц)\nprod = np.dot(N, M)\nprint(prod)",
      "metadata": {
        "hidden": true
      },
      "execution_count": null,
      "outputs": [],
      "id": "cdd63170"
    },
    {
      "cell_type": "code",
      "source": "# возвести матрицю `prod` в ступінь 3\npmat = np.linalg.matrix_power(prod, 3)\nprint(pmat)",
      "metadata": {
        "hidden": true
      },
      "execution_count": null,
      "outputs": [],
      "id": "b82fe63f"
    },
    {
      "cell_type": "code",
      "source": "# додати елементи до 1-вимірного масива\nmat = np.array([1,2,3])\nmat = np.append(mat, [5,6,7,8])\nprint(mat)",
      "metadata": {
        "hidden": true
      },
      "execution_count": null,
      "outputs": [],
      "id": "f953fc44"
    },
    {
      "cell_type": "code",
      "source": "# вставити елемент `4` в масив після 3-го елемента\nmat = np.insert(mat, 3, 4)\nprint(mat)",
      "metadata": {
        "hidden": true
      },
      "execution_count": null,
      "outputs": [],
      "id": "db3cc1b6"
    },
    {
      "cell_type": "code",
      "source": "# видалити елемент з індексом 6\nmat = np.delete(mat, 6)\nprint(mat)",
      "metadata": {
        "hidden": true
      },
      "execution_count": null,
      "outputs": [],
      "id": "fe415a92"
    },
    {
      "cell_type": "code",
      "source": "#  копіювання та присвоювання масивів\nM = np.random.randint(1, 10, 5 )\nprint(M)\n\n# присвоїти масив `M` в `N`\nN = M\nprint(N)\nprint(id(M), id(N))\n\n# копіювати масив `M` в `K`\nK = np.copy(M)\nprint(K)\nprint(id(M), id(K))",
      "metadata": {
        "hidden": true
      },
      "execution_count": null,
      "outputs": [],
      "id": "d4aaf37b"
    },
    {
      "cell_type": "code",
      "source": "# конкатенація масивів по рядкам\narr1 = np.array([[1,2,3,4], [1,2,3,4]])\narr2 = np.array([[5,6,7,8], [5,6,7,8]])\narr3 = np.concatenate((arr1, arr2), axis=0)\nprint(arr3)\n# по колонкам `axis = 1`\narr4 = np.concatenate((arr1, arr2), axis=1)\nprint(arr4)",
      "metadata": {
        "hidden": true
      },
      "execution_count": null,
      "outputs": [],
      "id": "f4c1dea4"
    },
    {
      "cell_type": "markdown",
      "source": "### ЗАВДАННЯ 5",
      "metadata": {
        "hidden": true
      },
      "id": "c97162c9"
    },
    {
      "cell_type": "code",
      "source": "# ЗАВДАННЯ 5.1: просумувати по рядкам масив випадкових чисел розмірностю 3х4\nmat5_1 = np.round(np.random.rand(4,3),2)\nsum_mat5_1 = np.sum(mat5_1, axis=1)\nprint(sum_mat5_1)",
      "metadata": {
        "hidden": true
      },
      "execution_count": null,
      "outputs": [],
      "id": "966132ea"
    },
    {
      "cell_type": "code",
      "source": "# ЗАВДАННЯ 5.2: знайти мінімальний елемент матриці `sum_mat5_1`\nmin_mat5_1 = np.min(mat5_1)\nprint(min_mat5_1)",
      "metadata": {
        "hidden": true
      },
      "execution_count": null,
      "outputs": [],
      "id": "622455c1"
    },
    {
      "cell_type": "code",
      "source": "# ЗАВДАННЯ 5.3: створити масив додавши до елементів `mat5_1`  число 100\nmat5_3 = mat5_1 + 100\nprint(mat5_3)",
      "metadata": {
        "hidden": true
      },
      "execution_count": null,
      "outputs": [],
      "id": "31f50295"
    },
    {
      "cell_type": "code",
      "source": "# ЗАВДАННЯ 5.4: помножити матрицю `mat5_1` на головну діагональ матриці `mat5_3`\nmat5_4 = np.array([np.dot(mat5_1, np.diag(mat5_3))])\nprint(mat5_4)",
      "metadata": {
        "hidden": true
      },
      "execution_count": null,
      "outputs": [],
      "id": "92665601"
    },
    {
      "cell_type": "code",
      "source": "# ЗАВДАННЯ 5.5: додати справа до матриці `mat5_3` матрицю `mat5_4` \n# вивести ранг отриманої матриці\nmat5_5 = ...\n...",
      "metadata": {
        "hidden": true
      },
      "execution_count": null,
      "outputs": [],
      "id": "eccfcadf"
    }
  ]
}