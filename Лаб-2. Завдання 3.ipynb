{
  "metadata": {
    "kernelspec": {
      "name": "python",
      "display_name": "Python (Pyodide)",
      "language": "python"
    },
    "language_info": {
      "codemirror_mode": {
        "name": "python",
        "version": 3
      },
      "file_extension": ".py",
      "mimetype": "text/x-python",
      "name": "python",
      "nbconvert_exporter": "python",
      "pygments_lexer": "ipython3",
      "version": "3.8"
    }
  },
  "nbformat_minor": 4,
  "nbformat": 4,
  "cells": [
    {
      "cell_type": "markdown",
      "source": "#  Лабораторна робота №2\n### практичне завдання 3 \n### Файлові операції в Python\n***",
      "metadata": {}
    },
    {
      "cell_type": "markdown",
      "source": "[__Файлом__](https://www.google.com/url?sa=t&rct=j&q=&esrc=s&source=web&cd=&cad=rja&uact=8&ved=2ahUKEwi27JCGsdLsAhUqpIsKHXr7DUEQFjABegQIBxAC&url=https%3A%2F%2Fru.wikipedia.org%2Fwiki%2F%25D0%25A4%25D0%25B0%25D0%25B9%25D0%25BB&usg=AOvVaw0fNfsmGUYbdOzQf_LNWorC) називається будь-яка послідовність даних, яка знаходиться на зовнішньому носії та має унікальне ім'я.\n\nВ ієрархічних файлових системах __ім'я__ файлу - це повний шлях до нього від кореня ієрархії. Шлях до файлу часто ассоціюють з його __адресою__.\n\nWindows: \n\n<pre>\nC:\\\n  |- Program Files\n  |      |- Python\n  |      |- Anaconda\n  |      | ...\n  |- Users\n  |   |- John\n  |   |   |- lab.py\n  |   |   |- file.txt\n  |   |   | ...\n  |   |- Bob\n  |...\n</pre>\n   \nІм'я файлу - ```c:\\Users\\John\\file.txt```\n\n__Шлях__ до файла може бути\n- [абсолютним](https://ru.wikipedia.org/wiki/Путь_к_файлу)\n- [відносним](https://ru.wikipedia.org/wiki/Путь_к_файлу)\n\n",
      "metadata": {}
    },
    {
      "cell_type": "markdown",
      "source": "### Операції з файлами",
      "metadata": {}
    },
    {
      "cell_type": "markdown",
      "source": "<p style=\"background-color:lightgreen; padding:10px\">\n    Щоб здійснювати операції з файлом його треба <b>відкрити</b>, тобто створити <b>об'єкт-посилання</b> на цей файл<br>Після завершення роботи з файлом його треба <b>закрити</b>   \n</p>\n\n```handler = open(<шлях до файла>,[<режим доступу>])\n...\nhandler.close()\n```\n\n[Опис режимів доступу к файлу](https://pythonworld.ru/tipy-dannyx-v-python/fajly-rabota-s-fajlami.html)",
      "metadata": {}
    },
    {
      "cell_type": "code",
      "source": "h = open(\".\\some_file.txt\", 'w')",
      "metadata": {},
      "execution_count": 2,
      "outputs": []
    },
    {
      "cell_type": "code",
      "source": "print(dir(h))",
      "metadata": {},
      "execution_count": 3,
      "outputs": [
        {
          "name": "stdout",
          "output_type": "stream",
          "text": "['_CHUNK_SIZE', '__class__', '__del__', '__delattr__', '__dict__', '__dir__', '__doc__', '__enter__', '__eq__', '__exit__', '__format__', '__ge__', '__getattribute__', '__getstate__', '__gt__', '__hash__', '__init__', '__init_subclass__', '__iter__', '__le__', '__lt__', '__ne__', '__new__', '__next__', '__reduce__', '__reduce_ex__', '__repr__', '__setattr__', '__sizeof__', '__str__', '__subclasshook__', '_checkClosed', '_checkReadable', '_checkSeekable', '_checkWritable', '_finalizing', 'buffer', 'close', 'closed', 'detach', 'encoding', 'errors', 'fileno', 'flush', 'isatty', 'line_buffering', 'mode', 'name', 'newlines', 'read', 'readable', 'readline', 'readlines', 'reconfigure', 'seek', 'seekable', 'tell', 'truncate', 'writable', 'write', 'write_through', 'writelines']\n"
        }
      ]
    },
    {
      "cell_type": "code",
      "source": "# після завершення роботи файл ТРЕБА закривати\nh.close()",
      "metadata": {},
      "execution_count": null,
      "outputs": []
    },
    {
      "cell_type": "markdown",
      "source": "#### запис в файл",
      "metadata": {}
    },
    {
      "cell_type": "code",
      "source": "# записати в файл строку `write`\nh = open(\"./some_file.txt\", 'w+')\nh.write(\"1-а строка\")\nh.close()",
      "metadata": {},
      "execution_count": null,
      "outputs": []
    },
    {
      "cell_type": "code",
      "source": "# ЗАВДАННЯ 1\n# використовуючи цикл 'for' записати в файл 'my_file.txt` 10 рядків:\n#   1-й рядок\n#   2-й рядок\n#   ...\nb = open(\"./my_file.txt\", 'w+')\nfor x in range(1, 10):\n    h.write(str(x) + \"-й рядок\" + \"\\n\")\nb.close()",
      "metadata": {},
      "execution_count": null,
      "outputs": []
    },
    {
      "cell_type": "code",
      "source": "# запис в файл з списка строк\nsome_list = [\n    \"строка 1\",\n    \"строка 2\",\n    \"строка 3\"\n]\n\nh = open(\"./some_file.txt\", 'w+')\nh.writelines(some_list)\nh.close()",
      "metadata": {},
      "execution_count": null,
      "outputs": []
    },
    {
      "cell_type": "markdown",
      "source": "#### читання з файла",
      "metadata": {}
    },
    {
      "cell_type": "code",
      "source": "h = open(\"./some_file.txt\", 'r')",
      "metadata": {},
      "execution_count": null,
      "outputs": []
    },
    {
      "cell_type": "code",
      "source": "# read(), readlene(), readlines()",
      "metadata": {},
      "execution_count": null,
      "outputs": []
    },
    {
      "cell_type": "code",
      "source": "# ЗАВДАННЯ 2\n# прочитати та вивести перші 5 записів з файла `my_file.txt`\n# ...\nmy_file = open(\"./my_file.txt\", 'r')\np = [next(my_file) for x in range(5)]\nprint(p)\nmy_file.close()",
      "metadata": {},
      "execution_count": null,
      "outputs": []
    },
    {
      "cell_type": "markdown",
      "source": "### Контекстні менеджери Python\n\n__Контекстні менеджери__ призначені для створення тимчасового середовища для виконання опрерацій над деяким об'єктом\n\nдля створення такого середовища використовується оператор \n\n```with <об'єкт> as <аліас>:\n       код\n```",
      "metadata": {}
    },
    {
      "cell_type": "code",
      "source": "# прочитати файл 'some_file.txt'\nwith open('./some_file.txt') as sf:\n    file_to_list = sf.readlines()\n    \nprint(file_to_list)",
      "metadata": {},
      "execution_count": null,
      "outputs": []
    },
    {
      "cell_type": "code",
      "source": "# ЗАВДАННЯ 3\n# виконати Завдання 2 з допомогою менеджера контекста\n# ...\nwith open(\"./my_file.txt\", 'r') as my_file:\n    p = [next(my_file) for x in range(5)]\nprint(p)\nmy_file.close()",
      "metadata": {},
      "execution_count": null,
      "outputs": []
    }
  ]
}