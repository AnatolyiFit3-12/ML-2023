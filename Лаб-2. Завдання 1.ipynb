{
  "metadata": {
    "varInspector": {
      "cols": {
        "lenName": 16,
        "lenType": 16,
        "lenVar": 40
      },
      "kernels_config": {
        "python": {
          "delete_cmd_postfix": "",
          "delete_cmd_prefix": "del ",
          "library": "var_list.py",
          "varRefreshCmd": "print(var_dic_list())"
        },
        "r": {
          "delete_cmd_postfix": ") ",
          "delete_cmd_prefix": "rm(",
          "library": "var_list.r",
          "varRefreshCmd": "cat(var_dic_list()) "
        }
      },
      "types_to_exclude": [
        "module",
        "function",
        "builtin_function_or_method",
        "instance",
        "_Feature"
      ],
      "window_display": false
    },
    "kernelspec": {
      "name": "python",
      "display_name": "Python (Pyodide)",
      "language": "python"
    },
    "language_info": {
      "codemirror_mode": {
        "name": "python",
        "version": 3
      },
      "file_extension": ".py",
      "mimetype": "text/x-python",
      "name": "python",
      "nbconvert_exporter": "python",
      "pygments_lexer": "ipython3",
      "version": "3.8"
    }
  },
  "nbformat_minor": 4,
  "nbformat": 4,
  "cells": [
    {
      "cell_type": "markdown",
      "source": "#  Лабораторна робота №2\n### навчально-методичний додаток\n***",
      "metadata": {}
    },
    {
      "cell_type": "markdown",
      "source": "## Завдання №1 \" Конструкції Python\"\n- заповнити пусті рядки вашим рішенням",
      "metadata": {}
    },
    {
      "cell_type": "markdown",
      "source": "### Змінні\n\nІм'я, яке використовується для позначення чогось або значення, називається **змінною**. У python можна оголошувати змінні і присвоювати йому значення наступним чином:\n\n- x = 10             \n- y = -3.1428         \n- s = \"Вася Пупкін\"\n- a = [x, y, s]\n- b = False\n- t = (y, \"Студент\")\n\n---\n_[Прочитати про типи даних](https://uk.education-wiki.com/2923901-python-data-types)_\n\nТип даних можна перевірити наступною інструкцією: `type(<імя змінної>)`",
      "metadata": {}
    },
    {
      "cell_type": "code",
      "source": "# виконайте присвоювання та виведіть типи даних x, y, s, b, t:\nx= 12\ny= -3.1428\ns= \"Яремич Анатолій\"\nb= False\nt= (y,\"Студент\")\nprint(type(x))\nprint(type(y))\nprint(type(s))\nprint(type(b))\nprint(type(t))",
      "metadata": {
        "run_control": {
          "marked": false
        }
      },
      "execution_count": 1,
      "outputs": []
    },
    {
      "cell_type": "code",
      "source": "<class 'int'>\n<class 'float'>\n<class 'str'>\n<class 'bool'>\n<class 'tuple'>",
      "metadata": {
        "tags": []
      },
      "execution_count": null,
      "outputs": []
    },
    {
      "cell_type": "markdown",
      "source": "### Опрератори\n\n#### арифметичні\n\n| Позначка | Виконує |\n|----|---|\n| +  | Додавання |\n| -  | Віднімання |\n| /  | поділ |\n| %  | остаток від ділення |\n| *  | множення |\n| //  | цілочісельне ділення |\n| **  | ступінь |",
      "metadata": {
        "heading_collapsed": true
      }
    },
    {
      "cell_type": "code",
      "source": "# застосуйте вищенаведені оператори до `x` та `y`:\nprint(x + y)\nprint(x - y)\nprint(x / y)\nprint(x % y)\nprint(x // y)\nprint(x ** y)",
      "metadata": {
        "hidden": true,
        "tags": []
      },
      "execution_count": 9,
      "outputs": []
    },
    {
      "cell_type": "markdown",
      "source": "#### порівняння\n| Позначка | Результат |\n|----|---|\n| == | True, якщо рівні |\n| !=  | True, якщо не рівні |\n| < | менше |\n| > | більше |\n| <=  | менше чи равно |\n| >=  | більше чи равно |",
      "metadata": {
        "hidden": true
      }
    },
    {
      "cell_type": "code",
      "source": "# застосуйте вищенаведені оператори до `x` та `y`:\nx = 5\ny = 6\nresult = 5 == 6 \nprint(result)  \nprint(x != y)  \nprint(x > y)  \nprint(x < y)  \nprint(x <= y)\nprint(x >= y)\n",
      "metadata": {
        "hidden": true
      },
      "execution_count": null,
      "outputs": []
    },
    {
      "cell_type": "markdown",
      "source": "### Вбудовані функції перетворення типів\n1. str(<змінна чи вираз>) - перетворення в строку\n2. int(<змінна чи вираз>) - перетворення в ціле\n3. float(<змінна чи вираз>) - перетворення в дийсне число\n\n[Прочитати про інші функції перетворення типів](http://nikolay.in.ua/navchaemos/python-3/612-tipi-danikh-funktsiji-peretvorennya-tipiv-operatsiji-z-chislovimi-tipami)\n",
      "metadata": {}
    },
    {
      "cell_type": "code",
      "source": "# застосуйте (1) функцію до змінних 'x' - 't' , (2) до `x` - 's', (3) - `x` - `y`\n# (якщо будуть помилки - виправте їх самотуж)\nstr(x)\nstr(y)\nstr(s)\nstr(b)\nstr(t)\n\n",
      "metadata": {},
      "execution_count": null,
      "outputs": []
    },
    {
      "cell_type": "markdown",
      "source": "## Завдання №3 \"Введення/вивід з консолі\"\n",
      "metadata": {}
    },
    {
      "cell_type": "markdown",
      "source": "- __input__([символьний вираз]) - введення с консолі в _символьному форматі_ (__STDIN__) \n- __print__(<вираз>) - виведення в консоль (__STDOUT__)\n\nДля зчитування рядка зі стандартного вводу використовується функція input (), яка зчитує рядок з клавіатури і повертає значення, яке відразу ж можна привласнити змінним:\n`s = input()`\n\nФункція `input` повертає текстовий рядок. Якщо потрібно зробити так, щоб змінні мали чисельні значення, то відразу ж після зчитування виконаємо перетворення типів за допомогою функції `int` або `float`, і запишемо нове значення:\n`s1 = int(s)`\n\nКраще об'єднати зчитування рядків і перетворення типів, якщо викликати функцію int/float для того значення, яке поверне функція input ():\n`s = int(input())`",
      "metadata": {}
    },
    {
      "cell_type": "code",
      "source": "# ввести з консолі число 2.71 в змінну 'e'\ne= float(input(\"Введіть число 2.71:\"))\nif (e > 2.71):\n    print(\"Ви ввели неправильне числo\")\nelif(e < 2.71):\n    print(\"Ви ввели неправильне число\")\nelif(e == 2.71):\n    print(\"Ви ввели правильне число\")",
      "metadata": {},
      "execution_count": null,
      "outputs": []
    },
    {
      "cell_type": "code",
      "source": "# вивести в консоль 'е' в супені 5\ne= int(input(\"Введіть ціле число:\"))\ny= print(e**5)\n",
      "metadata": {},
      "execution_count": null,
      "outputs": []
    },
    {
      "cell_type": "markdown",
      "source": "#### форматування  при виведенні\nу Python для позначення рядка використовуються одинарні, подвійні та потрійні лапки. Більшість використовують одинарні лапки при оголошенні одного символу. Подвійні лапки при оголошенні рядка та потрійні лапки при оголошенні абзацу / кількох рядків.\n\n- 'A' - одиночний символ\n- \"Студент Вася\" - рядок символів\n- \"\"\" Перший рядок \n    \n      Другий рядок\n      \n      ...\"\"\"\n",
      "metadata": {}
    },
    {
      "cell_type": "code",
      "source": "# Рядки можуть бути призначені змінним наприкалд `name` та `surname`, \n# які можна викликати при використанні оператора print.\n# Виконайте код, який наведено нижче\nname = \"Вася\"\nsurname = \"Пупкін\"\nprint (name, surname)\nprint(\"1+1\", 2, sep=\" -> \")\n",
      "metadata": {
        "trusted": true
      },
      "execution_count": 1,
      "outputs": [
        {
          "name": "stdout",
          "text": "Вася Пупкін\n1+1 -> 2\n",
          "output_type": "stream"
        }
      ]
    },
    {
      "cell_type": "markdown",
      "source": "Напишіть нижче, для чого нужна '`,`' та `sep` в функції `print()`:\n\n...",
      "metadata": {}
    },
    {
      "cell_type": "markdown",
      "source": "### форматування в функції `print()`\n\n[Прочитати про методи форматування вивода](https://python-scripts.com/string-formatting)",
      "metadata": {}
    },
    {
      "cell_type": "code",
      "source": "# виконати код та розібратись, чому функція `print()...format` спрацювала таким чином\nprint(\"{} {} - це студент\".format(name, surname))\nprint(\"Результат буде = {}\".format(42 / 5 + 4))\nb = True\nprint(\"{} - {} хлопець!\".format(name, b))\nprint(\"{} {}\".format(surname, name))",
      "metadata": {
        "run_control": {
          "marked": false
        }
      },
      "execution_count": null,
      "outputs": []
    },
    {
      "cell_type": "code",
      "source": "Вася Пупкін - це студент\nРезультат буде = 12.4\nВася - True хлопець!\nПупкін Вася",
      "metadata": {},
      "execution_count": null,
      "outputs": []
    },
    {
      "cell_type": "markdown",
      "source": "## Завдання №4 \"Керування обчисленнями\"",
      "metadata": {}
    },
    {
      "cell_type": "markdown",
      "source": "### Умовний оператор if / if-else / if-elif",
      "metadata": {
        "run_control": {
          "marked": false
        }
      }
    },
    {
      "cell_type": "markdown",
      "source": "`if <логічний вираз(умова)> :\n  <код>`\n  \n`if <логічний вираз(умова)> :\n  <код>\n else :\n    <код>`\n\n`if <логічний вираз(умова)> :\n  <код>\n elif <логічний вираз_1(умова)> :\n  <код>\n elif <логічний вираз_2(умова)> :\n  <код>\n... \n [else] :\n   <код>`",
      "metadata": {}
    },
    {
      "cell_type": "code",
      "source": "x = int(input(\"Введи x: \"))\n\n# ----- 1 ----------\nif x > 5:\n    print (x)\n    #x=4\n# ----- 2 ----------    \nif -5 < x < 5 :\n    print (x)\nelse:\n    print (x ** 2)\n    # x= 4\n# ----- 3 ----------\nif x > -5:\n    print (x)\nelif -5 < x < 5:\n    print (x ** 2)\nelif x > 5:\n    print (x ** (1/2))\n    #x=4",
      "metadata": {},
      "execution_count": null,
      "outputs": []
    },
    {
      "cell_type": "markdown",
      "source": "напишіть, який __if__ спрацював при:\n\nx = -20     ....\n\nx = 31.5    ....\n\nx = 4       ....",
      "metadata": {}
    },
    {
      "cell_type": "code",
      "source": "# напишить нижче код, який виводить слово 'студент', 'школяр' або 'малятко' \n# в залежності від введенного через консоль віку\nage = int(input(\"Введіть свій вік:\"))\nif( age <= 6):\n    print(\"Малятко\")\nelif (age <= 16):\n    print(\"Школяр\")\nelif (age <= 22):\n    print(\"Студент\")\n",
      "metadata": {},
      "execution_count": null,
      "outputs": []
    },
    {
      "cell_type": "markdown",
      "source": "### Цикли",
      "metadata": {}
    },
    {
      "cell_type": "markdown",
      "source": "#### for\n\n`for <змінна> in <перераховуємий об'єкт>\n    код`\n    \n    \n__перераховуємий об'єкт__ - це об'єкт, який складається із декількох послідовних складових (чисел, строк та ін.)\n\n- 1, 13, -10, 321\n- \"Вася\", \"Пупкін\", \"студент\"\n- \"Вася\", -10.1, True\n\n[Прочитати про функцію `range`](https://python-scripts.com/range)",
      "metadata": {}
    },
    {
      "cell_type": "code",
      "source": "# приклад цикла з 'for' та 'if'\nfor i in range(10):\n    if i % 2 != 0:\n        print (-i)\n    else:\n        pass",
      "metadata": {},
      "execution_count": null,
      "outputs": []
    },
    {
      "cell_type": "markdown",
      "source": "напишить своїми словами, що виконує наведений вище код\n\nЦикл з 0 до 10, який перевіряє умову - чи поточне значення і НЕ ділиться на 2 без остачі, якщо так, то вивести від'ємне значення.",
      "metadata": {}
    },
    {
      "cell_type": "code",
      "source": "# напишіть нижче код, який сумує числа, які діляться без остатка на 3 \n# в інтервалі від 10 до 100\nsum = 0\nfor i in range(10, 100):\n    if i % 3 == 0:\n        sum += i\n    else:\n        pass\nprint(sum)\n",
      "metadata": {},
      "execution_count": 11,
      "outputs": []
    },
    {
      "cell_type": "markdown",
      "source": "#### while\n\n[прочитати про цикл while](https://pythonru.com/osnovy/cikl-while-v-python)",
      "metadata": {}
    },
    {
      "cell_type": "code",
      "source": "# запустіть цей код \nwhile(input(\"тисни тут: \") != '0'):\n    print (\"було введено\")\n    #якщо ми введемо число 0 то код завершить свою роботу",
      "metadata": {},
      "execution_count": null,
      "outputs": []
    },
    {
      "cell_type": "code",
      "source": "тисни тут: 1\nбуло введено\nтисни тут: 1\nбуло введено\nтисни тут: 0",
      "metadata": {},
      "execution_count": null,
      "outputs": []
    },
    {
      "cell_type": "markdown",
      "source": "поясніть своїми словами, що виконує наведений вище код\n \n...",
      "metadata": {}
    },
    {
      "cell_type": "code",
      "source": "Наведено цикл, який кожен раз запитує ввід у користувача і виводить напис \"було введено\" на кожний ввід, окрім варіанту вводу \"0\".",
      "metadata": {},
      "execution_count": null,
      "outputs": []
    },
    {
      "cell_type": "code",
      "source": "# використовуючи 'while`напишіть нижче код, який сумує числа, \n# які діляться без остатка на 3 в інтервалі від 10 до 100\ni = 10\ns = 0\nwhile (i < 100):\n    if i % 3 == 0:\n        s += i\n    else:\n        pass\n    i += 1\nprint(s)",
      "metadata": {},
      "execution_count": null,
      "outputs": []
    },
    {
      "cell_type": "markdown",
      "source": "## Виконану роботу перешліть через Teams викладачу",
      "metadata": {}
    }
  ]
}