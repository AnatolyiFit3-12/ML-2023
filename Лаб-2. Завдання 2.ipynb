{
  "metadata": {
    "kernelspec": {
      "name": "python",
      "display_name": "Python (Pyodide)",
      "language": "python"
    },
    "language_info": {
      "codemirror_mode": {
        "name": "python",
        "version": 3
      },
      "file_extension": ".py",
      "mimetype": "text/x-python",
      "name": "python",
      "nbconvert_exporter": "python",
      "pygments_lexer": "ipython3",
      "version": "3.8"
    }
  },
  "nbformat_minor": 4,
  "nbformat": 4,
  "cells": [
    {
      "cell_type": "markdown",
      "source": "#  Лабораторна робота №2\n### навчально-методичний додаток (продовження)\n***",
      "metadata": {}
    },
    {
      "cell_type": "markdown",
      "source": "## Структури даних",
      "metadata": {}
    },
    {
      "cell_type": "markdown",
      "source": "###  Списки - List\n\n__Списки__ - це найбільш часто використовувана структура даних. \n\nЦе послідовність даних, яка укладена у квадратні дужки, а дані відокремлюються комою. До кожного з цих даних можна отримати доступ, викликавши його значення по індексу.\nСписки оголошуються просто прирівнюючи змінну до '[]' або списку.\n\n```spisok = [obj1, obj2, ..., objN]```, де obj - будь-який допустимий python-об'єкт\n\nspisok = [1, -0.12, \"Вася\", [42, \"Пупкін\"], False ]\n\n[Докладніше про списки в Python](https://devpractice.ru/python-lesson-7-work-with-list/)",
      "metadata": {}
    },
    {
      "cell_type": "code",
      "source": "a = []\nprint (type(a))",
      "metadata": {},
      "execution_count": null,
      "outputs": []
    },
    {
      "cell_type": "markdown",
      "source": "### операції над списками\n\n1. ```+``` - __додавання__: приєднує один список до другого\n2. ```*``` - __множення__ : розшірює список вправо на множник",
      "metadata": {}
    },
    {
      "cell_type": "code",
      "source": "a = [1,2,3] + [3, 4]\nb = a * 2",
      "metadata": {},
      "execution_count": null,
      "outputs": []
    },
    {
      "cell_type": "code",
      "source": "print(\"a = \", a)\nprint(\"b = \", b)",
      "metadata": {},
      "execution_count": null,
      "outputs": []
    },
    {
      "cell_type": "code",
      "source": "### ЗАВДАННЯ 1: \n# 1) створити пустий список `i_am`\n# 2) записати в нього своє ім'я\n# 3) вивести `id` списка\n# 4) додати до списка другий елемент з своїм прізвищем\n# 5) вивести отриманий список то його `id`\ni_am = list()\ni_am.append(\"Анатолій\")\nprint(id(i_am))\ni_am.append(\"Яремич\")\nprint(id(i_am),i_am)",
      "metadata": {
        "run_control": {
          "marked": false
        }
      },
      "execution_count": null,
      "outputs": []
    },
    {
      "cell_type": "markdown",
      "source": "### Особливості зберігання даних в списках\n\nСписки - не змінюють свое `id` при зміні значень, або кількості елементів",
      "metadata": {}
    },
    {
      "cell_type": "markdown",
      "source": "### Індексація в списках\n\n__Індексація__ - це метод доступу до окремого єлементу в списку. Елементи в списках нумеруються з 0, а доступ до них здійснюється через номер в квадратних дужках.\n\nname = \"Вася Пупкін\"\nname[5]",
      "metadata": {}
    },
    {
      "cell_type": "code",
      "source": "n = [1,2,3,4,5]\nprint(n[3], id(n))\nn[3] = 99999\nprint(n, id(n))",
      "metadata": {
        "scrolled": true
      },
      "execution_count": null,
      "outputs": []
    },
    {
      "cell_type": "markdown",
      "source": "Індекси можуть бути відємними",
      "metadata": {}
    },
    {
      "cell_type": "code",
      "source": "print(n[-2])\nn[-2] = 4\nprint(n)",
      "metadata": {},
      "execution_count": null,
      "outputs": []
    },
    {
      "cell_type": "markdown",
      "source": "#### срізи в списках\n\n__Срізи__ - це метод виділення зі списка іншого списка по заданому діапазону індексів\n\nspisok[<начало> : <кінець> : <шаг>]",
      "metadata": {}
    },
    {
      "cell_type": "code",
      "source": "n * 2\nprint(\"n = \", n)\n\nm = n[3:5]\nprint(\"m = \", m)\n\nk = n[:4]\nprint(\"k = \", k)\n\nl = n[: : 2]\nprint(\"l = \", l)",
      "metadata": {},
      "execution_count": 75,
      "outputs": [
        {
          "name": "stdout",
          "output_type": "stream",
          "text": "n =  [1, 2, 3, 4, 5]\n\nm =  [4, 5]\n\nk =  [1, 2, 3, 4]\n\nl =  [1, 3, 5]\n"
        }
      ]
    },
    {
      "cell_type": "code",
      "source": "### ЗАВДАННЯ 3: \n# 1) створити список із 10 натуральних чисел [1..10]\n# 2) написати код що виводить перші 5 єлементів\n# 3) написати код що виводить останні 6 єлементів\n# 4) написати код що виводить всі парні єлементи\n",
      "metadata": {
        "run_control": {
          "marked": false
        }
      },
      "execution_count": null,
      "outputs": []
    },
    {
      "cell_type": "code",
      "source": "aa = [x for x in range(10)]\n\nb = aa[:5]\nc = aa[4:]\nd = aa[::2]\n\nprint(b)\nprint(c)\nprint(d)",
      "metadata": {},
      "execution_count": null,
      "outputs": []
    },
    {
      "cell_type": "markdown",
      "source": "#### функції і методи спісків",
      "metadata": {}
    },
    {
      "cell_type": "code",
      "source": "l = list(range(5))\nprint(l)",
      "metadata": {},
      "execution_count": 43,
      "outputs": [
        {
          "name": "stdout",
          "output_type": "stream",
          "text": "[0, 1, 2, 3, 4]\n"
        }
      ]
    },
    {
      "cell_type": "code",
      "source": "print(dir(__builtins__))",
      "metadata": {},
      "execution_count": 49,
      "outputs": [
        {
          "name": "stdout",
          "output_type": "stream",
          "text": "['ArithmeticError', 'AssertionError', 'AttributeError', 'BaseException', 'BlockingIOError', 'BrokenPipeError', 'BufferError', 'BytesWarning', 'ChildProcessError', 'ConnectionAbortedError', 'ConnectionError', 'ConnectionRefusedError', 'ConnectionResetError', 'DeprecationWarning', 'EOFError', 'Ellipsis', 'EnvironmentError', 'Exception', 'False', 'FileExistsError', 'FileNotFoundError', 'FloatingPointError', 'FutureWarning', 'GeneratorExit', 'IOError', 'ImportError', 'ImportWarning', 'IndentationError', 'IndexError', 'InterruptedError', 'IsADirectoryError', 'KeyError', 'KeyboardInterrupt', 'LookupError', 'MemoryError', 'ModuleNotFoundError', 'NameError', 'None', 'NotADirectoryError', 'NotImplemented', 'NotImplementedError', 'OSError', 'OverflowError', 'PendingDeprecationWarning', 'PermissionError', 'ProcessLookupError', 'RecursionError', 'ReferenceError', 'ResourceWarning', 'RuntimeError', 'RuntimeWarning', 'StopAsyncIteration', 'StopIteration', 'SyntaxError', 'SyntaxWarning', 'SystemError', 'SystemExit', 'TabError', 'TimeoutError', 'True', 'TypeError', 'UnboundLocalError', 'UnicodeDecodeError', 'UnicodeEncodeError', 'UnicodeError', 'UnicodeTranslateError', 'UnicodeWarning', 'UserWarning', 'ValueError', 'Warning', 'ZeroDivisionError', '__IPYTHON__', '__build_class__', '__debug__', '__doc__', '__import__', '__loader__', '__name__', '__package__', '__spec__', 'abs', 'all', 'any', 'ascii', 'bin', 'bool', 'breakpoint', 'bytearray', 'bytes', 'callable', 'chr', 'classmethod', 'compile', 'complex', 'copyright', 'credits', 'delattr', 'dict', 'dir', 'display', 'divmod', 'enumerate', 'eval', 'exec', 'filter', 'float', 'format', 'frozenset', 'get_ipython', 'getattr', 'globals', 'hasattr', 'hash', 'help', 'hex', 'id', 'input', 'int', 'isinstance', 'issubclass', 'iter', 'len', 'license', 'list', 'locals', 'map', 'max', 'memoryview', 'min', 'next', 'object', 'oct', 'open', 'ord', 'pow', 'print', 'property', 'range', 'repr', 'reversed', 'round', 'set', 'setattr', 'slice', 'sorted', 'staticmethod', 'str', 'sum', 'super', 'tuple', 'type', 'vars', 'zip']\n"
        }
      ]
    },
    {
      "cell_type": "code",
      "source": "print(dir(list))",
      "metadata": {
        "scrolled": true
      },
      "execution_count": 50,
      "outputs": [
        {
          "name": "stdout",
          "output_type": "stream",
          "text": "['__add__', '__class__', '__contains__', '__delattr__', '__delitem__', '__dir__', '__doc__', '__eq__', '__format__', '__ge__', '__getattribute__', '__getitem__', '__gt__', '__hash__', '__iadd__', '__imul__', '__init__', '__init_subclass__', '__iter__', '__le__', '__len__', '__lt__', '__mul__', '__ne__', '__new__', '__reduce__', '__reduce_ex__', '__repr__', '__reversed__', '__rmul__', '__setattr__', '__setitem__', '__sizeof__', '__str__', '__subclasshook__', 'append', 'clear', 'copy', 'count', 'extend', 'index', 'insert', 'pop', 'remove', 'reverse', 'sort']\n"
        }
      ]
    },
    {
      "cell_type": "markdown",
      "source": "### вкладені списки",
      "metadata": {}
    },
    {
      "cell_type": "code",
      "source": "spisok = [[1, 2], [3, 4]]\nprint (spisok[0])\nprint (spisok[0][1])",
      "metadata": {},
      "execution_count": null,
      "outputs": []
    },
    {
      "cell_type": "code",
      "source": "### ЗАВДАННЯ 4: \n# 1) створити вкладений список [[1,2,3], [4,5,6], [7,8,9]]\n# 2) написати код що замінює 4-ку на 42\n# 3) написати код що міняє місцями 3-ку та 5-ку",
      "metadata": {
        "run_control": {
          "marked": false
        }
      },
      "execution_count": null,
      "outputs": []
    },
    {
      "cell_type": "code",
      "source": "a1 = [[1,2,3], [4, 5, 6], [7, 8, 9]]\na1[1][0] = 42\na1[0][2] , a1[1][1] = a1[1][1], a1[0][2]\nprint(a1)",
      "metadata": {},
      "execution_count": null,
      "outputs": []
    },
    {
      "cell_type": "markdown",
      "source": "## Кортежі - tuples",
      "metadata": {}
    },
    {
      "cell_type": "markdown",
      "source": "__Кортеж__ - це _незмінна_ структура послідовних даних в круглих дужках",
      "metadata": {}
    },
    {
      "cell_type": "code",
      "source": "k = ()    # пустий котреж\nk1 = (23,) # одноелементний кортеж\nkn = (1, 2, \"Вася\", [43, 1.2], (55, \"39\"))",
      "metadata": {},
      "execution_count": 26,
      "outputs": []
    },
    {
      "cell_type": "code",
      "source": "",
      "metadata": {},
      "execution_count": null,
      "outputs": []
    },
    {
      "cell_type": "code",
      "source": "print(type(k))",
      "metadata": {},
      "execution_count": 28,
      "outputs": [
        {
          "name": "stdout",
          "output_type": "stream",
          "text": "<class 'tuple'>\n"
        }
      ]
    },
    {
      "cell_type": "markdown",
      "source": "#### відмінність від списків",
      "metadata": {}
    },
    {
      "cell_type": "code",
      "source": "l = [1, 2]\nk = (1, 2)\nprint(l.__sizeof__())\nprint(k.__sizeof__())",
      "metadata": {},
      "execution_count": 36,
      "outputs": [
        {
          "name": "stdout",
          "output_type": "stream",
          "text": "56\n\n40\n"
        }
      ]
    },
    {
      "cell_type": "code",
      "source": "print (l, id(l))\nl += [3]\nprint (l, id(l))",
      "metadata": {
        "scrolled": true
      },
      "execution_count": 24,
      "outputs": [
        {
          "name": "stdout",
          "output_type": "stream",
          "text": "[1, 2] 4532933008\n\n[1, 2, 3] 4532933008\n"
        }
      ]
    },
    {
      "cell_type": "code",
      "source": "print (k, id(k))\nk += (3,)\nprint (k, id(k))",
      "metadata": {
        "scrolled": true
      },
      "execution_count": 25,
      "outputs": [
        {
          "name": "stdout",
          "output_type": "stream",
          "text": "(1, 2) 4529662304\n\n(1, 2, 3) 4531036640\n"
        }
      ]
    },
    {
      "cell_type": "code",
      "source": "l.append(4)\nprint(l)",
      "metadata": {},
      "execution_count": 29,
      "outputs": [
        {
          "name": "stdout",
          "output_type": "stream",
          "text": "[1, 2, 3, 4]\n"
        }
      ]
    }
  ]
}